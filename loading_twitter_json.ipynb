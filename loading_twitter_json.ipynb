{
 "cells": [
  {
   "cell_type": "markdown",
   "metadata": {},
   "source": [
    "## Prelims"
   ]
  },
  {
   "cell_type": "code",
   "execution_count": 7,
   "metadata": {},
   "outputs": [],
   "source": [
    "import pandas as pd"
   ]
  },
  {
   "cell_type": "code",
   "execution_count": 25,
   "metadata": {},
   "outputs": [
    {
     "name": "stdout",
     "output_type": "stream",
     "text": [
      "6,5M\tcatrillanca.csv\n",
      "11M\tcatrillanca.json\n",
      "11M\tcatrillanca20181112_20190112.json\n",
      "79M\tcatrillanca20181112_20190112_raw.json\n",
      "105M\ttotal\n"
     ]
    }
   ],
   "source": [
    "!du -h -c catrillanca*"
   ]
  },
  {
   "cell_type": "markdown",
   "metadata": {},
   "source": [
    "# Fear in the news: The Case of Catrillanca"
   ]
  },
  {
   "cell_type": "markdown",
   "metadata": {},
   "source": [
    "## Intro"
   ]
  },
  {
   "cell_type": "markdown",
   "metadata": {},
   "source": [
    "For some projects I'm working on regarding the news systems of the world, a case study presented itself: the treatment of a highly-sensitive social issue with the death of a [mapuche](https://en.wikipedia.org/wiki/Mapuche) in the [Araucanía](https://en.wikipedia.org/wiki/Araucanía_Region) region of Chile. This is commonly called as the [Catrillanca case](https://en.wikipedia.org/wiki/Camilo_Catrillanca). The way the media dealt with the issue was of interest, given the (intentional or unintentional) biases of professional media outlets."
   ]
  },
  {
   "cell_type": "markdown",
   "metadata": {},
   "source": [
    "These are some notes on the methodology we used to analyze the case using Twitter."
   ]
  },
  {
   "cell_type": "markdown",
   "metadata": {},
   "source": [
    "## Methodology"
   ]
  },
  {
   "cell_type": "markdown",
   "metadata": {},
   "source": [
    "### Data gathering"
   ]
  },
  {
   "cell_type": "markdown",
   "metadata": {},
   "source": [
    "I used from https://github.com/asmelashteka/twitteradvancedsearch to download the historical tweets, and the following command to gather the \"catrillanca\" tweets:\n",
    "\n",
    "```\n",
    "python advancedsearch.py -ht \"catrillanca comandojungla mapuche justiciaparacatrillanca\" -s 2018-11-12 -u 2019-01-12 -k leo > catrillanca20181112_20190112.json\n",
    "```"
   ]
  },
  {
   "cell_type": "markdown",
   "metadata": {},
   "source": [
    "and saved the original file as: `catrillanca20181112_20190112.json`. However, I've got to get rid of the first two bogus lines:\n",
    "\n",
    "```\n",
    "{'f': 'tweets', 'vertical': 'news', 'q': '#catrillanca OR #comandojungla OR #mapuche OR #justiciaparacatrillanca since:2018-11-12 until:2019-01-12', 'src': 'typd'}\n",
    "\n",
    "https://twitter.com/search?f=tweets&vertical=news&q=%23catrillanca+OR+%23comandojungla+OR+%23mapuche+OR+%23justiciaparacatrillanca+since%3A2018-11-12+until%3A2019-01-12&src=typd\n",
    "```"
   ]
  },
  {
   "cell_type": "code",
   "execution_count": 8,
   "metadata": {},
   "outputs": [],
   "source": [
    "!tail -n +3 catrillanca20181112_20190112.json > catrillanca.json"
   ]
  },
  {
   "cell_type": "markdown",
   "metadata": {},
   "source": [
    "Then, it's quite easy to load the `json` objects using `pandas`:"
   ]
  },
  {
   "cell_type": "code",
   "execution_count": 9,
   "metadata": {},
   "outputs": [],
   "source": [
    "df = pd.read_json('catrillanca.json', lines=True)"
   ]
  },
  {
   "cell_type": "markdown",
   "metadata": {},
   "source": [
    "Since it's always easier to deal with `csv` files, I save the `DataFrame` as a `csv` file, and that's what will be analyzed."
   ]
  },
  {
   "cell_type": "code",
   "execution_count": 11,
   "metadata": {},
   "outputs": [],
   "source": [
    "df.to_csv(\"catrillanca.csv\", index=False)"
   ]
  },
  {
   "cell_type": "markdown",
   "metadata": {},
   "source": [
    "## Exercises"
   ]
  },
  {
   "cell_type": "markdown",
   "metadata": {},
   "source": [
    "### Exercise 1: Load the same file in \"raw\" format"
   ]
  },
  {
   "cell_type": "markdown",
   "metadata": {},
   "source": [
    "There is a another version of this file, `catrillanca20181112_20190112_raw.json`, in which I download the whole tweet json object (the ones above are limited to some information)."
   ]
  }
 ],
 "metadata": {
  "kernelspec": {
   "display_name": "Python 3",
   "language": "python",
   "name": "python3"
  },
  "language_info": {
   "codemirror_mode": {
    "name": "ipython",
    "version": 3
   },
   "file_extension": ".py",
   "mimetype": "text/x-python",
   "name": "python",
   "nbconvert_exporter": "python",
   "pygments_lexer": "ipython3",
   "version": "3.7.3"
  }
 },
 "nbformat": 4,
 "nbformat_minor": 4
}
